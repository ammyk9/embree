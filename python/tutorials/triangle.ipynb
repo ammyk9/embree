{
 "cells": [
  {
   "cell_type": "code",
   "execution_count": 23,
   "metadata": {},
   "outputs": [
    {
     "data": {
      "image/jpeg": "[encoded data removed]",
      "image/png": "[encoded data removed]",
      "text/plain": [
       "<PIL.Image.Image image mode=RGB size=256x256>"
      ]
     },
     "metadata": {},
     "output_type": "display_data"
    }
   ],
   "source": [
    "# We setup an embree device and scene as we did in the minimal tutorial\n",
    "# We also declare some helper functions to create geometry, rays and output intersection results, see the minimal tutorial for more information on this\n",
    "#from common import create_triangle, create_ray, print_hit\n",
    "\n",
    "import pyrootutils\n",
    "import os\n",
    "pyrootutils.setup_root(os.getcwd(), indicator=\"CMakeLists.txt\", pythonpath=True)\n",
    "\n",
    "from tutorials.common import create_triangle, create_ray, print_hit\n",
    "\n",
    "import pyembree as pe\n",
    "import ctypes\n",
    "import numpy as np\n",
    "\n",
    "d = pe.rtcNewDevice(None)\n",
    "s = pe.rtcNewScene(d)\n",
    "\n",
    "# We crate two triangles\n",
    "create_triangle(d, s)\n",
    "pe.rtcCommitScene(s)\n",
    "\n",
    "\n",
    "# Create an image\n",
    "from PIL import Image\n",
    "im = PIL.Image.new(mode = \"RGB\", size=(256, 256), color = (0, 0, 0))\n",
    "\n",
    "# Collect rays in a python list, use an othrographic projection to create rays\n",
    "left = -2.0\n",
    "right = 2.0\n",
    "bot = -2.0\n",
    "top = 2.0\n",
    "width = right - left\n",
    "height = top - bot\n",
    "\n",
    "import itertools\n",
    "xy = list(itertools.product(range(0, im.size[0]), range(0, im.size[1])))\n",
    "rayhits = [create_ray(left + width / im.size[0] * x, bot + height / im.size[1] * y, -1, 0, 0, 1) for x,y in xy]\n",
    "\n",
    "# Intersect all rays in the list.\n",
    "# Intersection calls are done in parallel, we can define the number of threads used in the last function argument. 0 will use the maximum of the hardware capabilities.\n",
    "pe.rtcIntersectN(s, rayhits, None, 0)\n",
    "\n",
    "\n",
    "pixels = im.load()\n",
    "for rh, (x, y) in zip(rayhits, xy):\n",
    "  if rh.hit.geomID != pe.RTC_INVALID_GEOMETRY_ID:\n",
    "    pixels[x, y] = (255, 0, 0)\n",
    "  \n",
    "\n",
    "display(im)\n",
    "\n",
    "pe.rtcReleaseScene(s)\n",
    "pe.rtcReleaseDevice(d)\n",
    " "
   ]
  },
  {
   "cell_type": "code",
   "execution_count": null,
   "metadata": {},
   "outputs": [],
   "source": []
  }
 ],
 "metadata": {
  "kernelspec": {
   "display_name": "Python 3 (ipykernel)",
   "language": "python",
   "name": "python3"
  },
  "language_info": {
   "codemirror_mode": {
    "name": "ipython",
    "version": 3
   },
   "file_extension": ".py",
   "mimetype": "text/x-python",
   "name": "python",
   "nbconvert_exporter": "python",
   "pygments_lexer": "ipython3",
   "version": "3.11.8"
  }
 },
 "nbformat": 4,
 "nbformat_minor": 2
}
